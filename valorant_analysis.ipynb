{
  "cells": [
    {
      "cell_type": "markdown",
      "metadata": {},
      "source": [
        "# Valorant VCT Winner Prediction - Interactive Analysis\n",
        "\n",
        "This notebook provides an interactive environment for analyzing Valorant esports data and training machine learning models for match outcome prediction.\n",
        "\n",
        "## Table of Contents\n",
        "1. [Data Collection and Exploration](#data-collection)\n",
        "2. [Data Preprocessing and Analysis](#data-preprocessing)\n",
        "3. [Feature Engineering](#feature-engineering)\n",
        "4. [Model Training and Evaluation](#model-training)\n",
        "5. [Prediction and Analysis](#prediction-analysis)\n",
        "6. [Visualization and Insights](#visualization)\n"
      ]
    },
    {
      "cell_type": "markdown",
      "metadata": {},
      "source": [
        "## 1. Data Collection and Exploration {#data-collection}\n"
      ]
    },
    {
      "cell_type": "code",
      "execution_count": null,
      "metadata": {},
      "outputs": [],
      "source": [
        "# Import required libraries\n",
        "import pandas as pd\n",
        "import numpy as np\n",
        "import matplotlib.pyplot as plt\n",
        "import seaborn as sns\n",
        "from datetime import datetime\n",
        "import warnings\n",
        "warnings.filterwarnings('ignore')\n",
        "\n",
        "# Set plotting style\n",
        "plt.style.use('seaborn-v0_8')\n",
        "sns.set_palette(\"husl\")\n",
        "\n",
        "# Import our modules\n",
        "from data_collector import ValorantDataCollector\n",
        "from data_preprocessor import ValorantDataPreprocessor\n",
        "from feature_engineering import ValorantFeatureEngineer\n",
        "from ml_model import ValorantMLModel\n",
        "from evaluation import ValorantModelEvaluator\n",
        "from prediction_interface import ValorantPredictionInterface\n",
        "\n",
        "print(\"Libraries imported successfully!\")\n"
      ]
    }
  ],
  "metadata": {
    "language_info": {
      "name": "python"
    }
  },
  "nbformat": 4,
  "nbformat_minor": 2
}
